{
 "cells": [
  {
   "cell_type": "markdown",
   "id": "491f5ae7-110e-4fb6-97b1-6357eb9ff0c1",
   "metadata": {},
   "source": [
    "# Kizzie Trinh #\n",
    "# SDEV 220 #\n",
    "# Chapter 7 Exercises #"
   ]
  },
  {
   "cell_type": "markdown",
   "id": "304de3e4-1a11-4431-973a-a2797e9be4b8",
   "metadata": {},
   "source": [
    "## Section 7.4 ##\n",
    "##  Make a list called things with these three strings as elements: \"mozzarella\", \"cinderella\", \"salmonella\". ##"
   ]
  },
  {
   "cell_type": "code",
   "execution_count": 26,
   "id": "584ff708-a982-4d10-9a8a-eb2db6b5bebc",
   "metadata": {},
   "outputs": [
    {
     "name": "stdout",
     "output_type": "stream",
     "text": [
      "['mozzarella', 'cinderella', 'salamonella']\n"
     ]
    }
   ],
   "source": [
    "empty_list = [ ]\n",
    "things = [\"mozzarella\", \"cinderella\", \"salamonella\"]\n",
    "print (things)"
   ]
  },
  {
   "cell_type": "markdown",
   "id": "a7549137-7a8c-4603-973c-d5021fb05ce3",
   "metadata": {},
   "source": [
    "## Section 7.5 ##\n",
    "## Capitalize the element in things that refers to a person and then print the list. Did it change the element in the list? ##"
   ]
  },
  {
   "cell_type": "code",
   "execution_count": 34,
   "id": "91264566-5020-4b2a-a326-8e21a64721c0",
   "metadata": {},
   "outputs": [
    {
     "name": "stdout",
     "output_type": "stream",
     "text": [
      "Cinderella\n"
     ]
    }
   ],
   "source": [
    "person_list = things.copy()\n",
    "print(person_list[1].capitalize())\n",
    "    "
   ]
  },
  {
   "cell_type": "markdown",
   "id": "722f82e0-dc0c-4dd4-9d93-2808b2f31bef",
   "metadata": {},
   "source": [
    "## Section 7.6 ##\n",
    "## Make the cheesy element of things all uppercase and then print the list. ##"
   ]
  },
  {
   "cell_type": "code",
   "execution_count": 36,
   "id": "84cf50a7-4974-4b57-9cb1-1930c5e9d281",
   "metadata": {},
   "outputs": [
    {
     "name": "stdout",
     "output_type": "stream",
     "text": [
      "MOZZARELLA\n"
     ]
    }
   ],
   "source": [
    "cheezy_list=things.copy()\n",
    "print(cheezy_list[0].upper())\n"
   ]
  },
  {
   "cell_type": "markdown",
   "id": "aff59856-6e77-4933-97d7-61661b1d6dea",
   "metadata": {},
   "source": [
    "## Section 7.7 ##\n",
    "## Delete the disease element from things, collect your Nobel Prize, and print the list. ##"
   ]
  },
  {
   "cell_type": "code",
   "execution_count": 13,
   "id": "6f44a7ba-5986-4916-9a60-bcf113a781e9",
   "metadata": {
    "scrolled": true
   },
   "outputs": [
    {
     "name": "stdout",
     "output_type": "stream",
     "text": [
      "['mozzarella', 'cinderella']\n"
     ]
    }
   ],
   "source": [
    "disease_list=things.copy()\n",
    "disease_list.remove(things[2])\n",
    "print(disease_list)"
   ]
  },
  {
   "cell_type": "code",
   "execution_count": null,
   "id": "256b4c88-f23b-4854-af22-dffde2f5cd9a",
   "metadata": {},
   "outputs": [],
   "source": []
  }
 ],
 "metadata": {
  "kernelspec": {
   "display_name": "Python 3 (ipykernel)",
   "language": "python",
   "name": "python3"
  },
  "language_info": {
   "codemirror_mode": {
    "name": "ipython",
    "version": 3
   },
   "file_extension": ".py",
   "mimetype": "text/x-python",
   "name": "python",
   "nbconvert_exporter": "python",
   "pygments_lexer": "ipython3",
   "version": "3.11.7"
  }
 },
 "nbformat": 4,
 "nbformat_minor": 5
}
