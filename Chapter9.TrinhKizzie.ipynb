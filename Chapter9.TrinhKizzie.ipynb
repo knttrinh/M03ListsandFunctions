{
 "cells": [
  {
   "cell_type": "markdown",
   "id": "beecb53b-60a3-4a4c-81fc-5bdbf589f400",
   "metadata": {},
   "source": [
    "# Kizzie Trinh #\n",
    "# SDEV 220 #\n",
    "# Chapter 9 Exercises #"
   ]
  },
  {
   "cell_type": "markdown",
   "id": "5518f759-c745-4847-85b4-95c65350fad0",
   "metadata": {},
   "source": [
    "## Section 9.1 ##\n",
    "## Define a function called good() that returns the following list: ['Harry', 'Ron', 'Hermione']. ##"
   ]
  },
  {
   "cell_type": "code",
   "execution_count": 10,
   "id": "6db49661-89c9-4b15-9856-ad989a6400ce",
   "metadata": {},
   "outputs": [],
   "source": [
    "def good():\n",
    "    return [\"Harry\", \"Ron\", \"Hermione\"]"
   ]
  },
  {
   "cell_type": "markdown",
   "id": "a0035c3d-0dc8-41b0-9254-4e4a74b8dd17",
   "metadata": {},
   "source": [
    "## Section 9.2 ##\n",
    "## Define a generator function called get_odds() that returns the odd numbers from range(10). Use a for loop to find and print the third value returned. ##"
   ]
  },
  {
   "cell_type": "code",
   "execution_count": 21,
   "id": "5e8bfd3a-dd9c-4da0-815a-07cf2d59c22e",
   "metadata": {},
   "outputs": [
    {
     "name": "stdout",
     "output_type": "stream",
     "text": [
      "5\n"
     ]
    }
   ],
   "source": [
    "def get_odds():\n",
    "    for number in range (1 ,10 ,2):\n",
    "        yield number\n",
    "for i, number in enumerate(get_odds()):\n",
    "        if i == 2:\n",
    "            print(number)\n",
    "            break\n",
    "     "
   ]
  },
  {
   "cell_type": "code",
   "execution_count": null,
   "id": "fd335dbb-232a-41e6-97ae-1c2bda4f7a15",
   "metadata": {},
   "outputs": [],
   "source": []
  }
 ],
 "metadata": {
  "kernelspec": {
   "display_name": "Python 3 (ipykernel)",
   "language": "python",
   "name": "python3"
  },
  "language_info": {
   "codemirror_mode": {
    "name": "ipython",
    "version": 3
   },
   "file_extension": ".py",
   "mimetype": "text/x-python",
   "name": "python",
   "nbconvert_exporter": "python",
   "pygments_lexer": "ipython3",
   "version": "3.11.7"
  }
 },
 "nbformat": 4,
 "nbformat_minor": 5
}
